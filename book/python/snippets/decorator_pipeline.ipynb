{
 "cells": [
  {
   "cell_type": "markdown",
   "metadata": {},
   "source": [
    "# Decorator pipeline example using List"
   ]
  },
  {
   "cell_type": "code",
   "execution_count": 1,
   "metadata": {},
   "outputs": [],
   "source": [
    "from typing import Callable, List"
   ]
  },
  {
   "cell_type": "markdown",
   "metadata": {},
   "source": [
    "Define a callable type  \n",
    "\n",
    "First `[None]` indicates input argument for the callable function  \n",
    "Second `None` indicates output argument for the callable function"
   ]
  },
  {
   "cell_type": "code",
   "execution_count": 2,
   "metadata": {},
   "outputs": [],
   "source": [
    "Pipeline_Step = Callable[[None], None]"
   ]
  },
  {
   "cell_type": "markdown",
   "metadata": {},
   "source": [
    "Create a `pipeline` variable to hold a list of `step`  \n",
    "This list represents the collection of all the steps in the pipeline"
   ]
  },
  {
   "cell_type": "code",
   "execution_count": 3,
   "metadata": {},
   "outputs": [],
   "source": [
    "pipeline: List[Pipeline_Step] = []"
   ]
  },
  {
   "cell_type": "markdown",
   "metadata": {},
   "source": [
    "Create a function to register callables (i.e. functions) via a decorator"
   ]
  },
  {
   "cell_type": "code",
   "execution_count": 4,
   "metadata": {},
   "outputs": [],
   "source": [
    "def register_step(step: Pipeline_Step) -> None:\n",
    "    print(f\"Added {step.__name__} to pipeline.\")\n",
    "    pipeline.append(step)"
   ]
  },
  {
   "cell_type": "markdown",
   "metadata": {},
   "source": [
    "Decorate callables using the `register_step` function  \n",
    "The callable is added to the pipeline when the callable is defined"
   ]
  },
  {
   "cell_type": "code",
   "execution_count": 5,
   "metadata": {},
   "outputs": [
    {
     "name": "stdout",
     "output_type": "stream",
     "text": [
      "Added step_one to pipeline.\n"
     ]
    }
   ],
   "source": [
    "@register_step\n",
    "def step_one() -> None:\n",
    "    print(\"Inside Step 1\")"
   ]
  },
  {
   "cell_type": "code",
   "execution_count": 6,
   "metadata": {},
   "outputs": [
    {
     "name": "stdout",
     "output_type": "stream",
     "text": [
      "Added step_two to pipeline.\n"
     ]
    }
   ],
   "source": [
    "@register_step\n",
    "def step_two() -> None:\n",
    "    print(\"Inside Step 2\")"
   ]
  },
  {
   "cell_type": "markdown",
   "metadata": {},
   "source": [
    "To execute all steps in the pipeline, simply loop thru the list and call each registered callable"
   ]
  },
  {
   "cell_type": "code",
   "execution_count": 7,
   "metadata": {},
   "outputs": [
    {
     "name": "stdout",
     "output_type": "stream",
     "text": [
      "Inside Step 1\n",
      "Inside Step 2\n"
     ]
    }
   ],
   "source": [
    "for step in pipeline:\n",
    "    step()"
   ]
  },
  {
   "cell_type": "code",
   "execution_count": null,
   "metadata": {},
   "outputs": [],
   "source": []
  }
 ],
 "metadata": {
  "kernelspec": {
   "display_name": "Python 3.10.6 ('book')",
   "language": "python",
   "name": "python3"
  },
  "language_info": {
   "codemirror_mode": {
    "name": "ipython",
    "version": 3
   },
   "file_extension": ".py",
   "mimetype": "text/x-python",
   "name": "python",
   "nbconvert_exporter": "python",
   "pygments_lexer": "ipython3",
   "version": "3.10.6"
  },
  "orig_nbformat": 4,
  "vscode": {
   "interpreter": {
    "hash": "9c81ba65c9368372f9fc0609a431250d36d114ec7f85299ade3fe86087d24459"
   }
  }
 },
 "nbformat": 4,
 "nbformat_minor": 2
}
